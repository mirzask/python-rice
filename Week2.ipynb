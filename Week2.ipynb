{
 "cells": [
  {
   "cell_type": "markdown",
   "metadata": {},
   "source": [
    "# Functions\n",
    "\n",
    "Use `def` to \"define\" the name and variables of the function. Of note, your function does *not* need to have any parameters/arguments [See \"Hello, world!\" example below].\n",
    "\n",
    "Use `return` to give the resulting output\n",
    "\n",
    "Let's use the example of finding the area of a triangle.\n",
    "\n",
    "Recall, $\\text{triangle area} = 1/2 \\times \\text{base} \\times \\text{height}$"
   ]
  },
  {
   "cell_type": "code",
   "execution_count": 4,
   "metadata": {},
   "outputs": [],
   "source": [
    "def triangle_area(base, height):\n",
    "    area = (1 / 2) * base * height\n",
    "    return area"
   ]
  },
  {
   "cell_type": "markdown",
   "metadata": {},
   "source": [
    "No code is executed; it will only execute when the function is *called*."
   ]
  },
  {
   "cell_type": "code",
   "execution_count": 5,
   "metadata": {},
   "outputs": [
    {
     "name": "stdout",
     "output_type": "stream",
     "text": [
      "12.0\n",
      "14.0\n"
     ]
    }
   ],
   "source": [
    "a1 = triangle_area(3, 8)\n",
    "print(a1)\n",
    "\n",
    "a2 = triangle_area(14, 2)\n",
    "print(a2)"
   ]
  },
  {
   "cell_type": "markdown",
   "metadata": {},
   "source": [
    "Example:\n",
    "\n",
    "Create a function that converts Fahrenheit to Celsius\n",
    "\n",
    "recall, $\\text{Celsius} = 5/9 \\times (\\text{Fahrenheit} - 32)$"
   ]
  },
  {
   "cell_type": "code",
   "execution_count": 6,
   "metadata": {},
   "outputs": [],
   "source": [
    "def fahrenheit2celsius(fahrenheit):\n",
    "    celsius = (5/9) * (fahrenheit - 32)\n",
    "    return celsius"
   ]
  },
  {
   "cell_type": "code",
   "execution_count": 8,
   "metadata": {},
   "outputs": [
    {
     "name": "stdout",
     "output_type": "stream",
     "text": [
      "0.0 100.0\n"
     ]
    }
   ],
   "source": [
    "# Test\n",
    "\n",
    "c1 = fahrenheit2celsius(32)\n",
    "\n",
    "c2 = fahrenheit2celsius(212)\n",
    "\n",
    "print(c1, c2)"
   ]
  },
  {
   "cell_type": "markdown",
   "metadata": {},
   "source": [
    "You can also call other functions when creating a *new* function\n",
    "\n",
    "Example: convert Fahrenheit to Kelvin knowing that $\\text{Kelvin} = \\text{Celsius} + 273.15$"
   ]
  },
  {
   "cell_type": "code",
   "execution_count": 9,
   "metadata": {},
   "outputs": [],
   "source": [
    "def fahrenheit2kelvin(fahrenheit):\n",
    "    celsius = fahrenheit2celsius(fahrenheit)\n",
    "    kelvin = celsius + 273.15\n",
    "    return kelvin"
   ]
  },
  {
   "cell_type": "code",
   "execution_count": 10,
   "metadata": {},
   "outputs": [
    {
     "name": "stdout",
     "output_type": "stream",
     "text": [
      "273.15 373.15\n"
     ]
    }
   ],
   "source": [
    "# Test\n",
    "\n",
    "k1 = fahrenheit2kelvin(32)\n",
    "k2 = fahrenheit2kelvin(212)\n",
    "\n",
    "print(k1, k2)"
   ]
  },
  {
   "cell_type": "markdown",
   "metadata": {},
   "source": [
    "## Argument-less Function\n",
    "\n",
    "Example, a function that simply prints \"Hello, world!\" when called."
   ]
  },
  {
   "cell_type": "code",
   "execution_count": 13,
   "metadata": {},
   "outputs": [],
   "source": [
    "def hello():\n",
    "    print(\"Hello, world!\")"
   ]
  },
  {
   "cell_type": "code",
   "execution_count": 14,
   "metadata": {},
   "outputs": [
    {
     "name": "stdout",
     "output_type": "stream",
     "text": [
      "Hello, world!\n"
     ]
    }
   ],
   "source": [
    "# Test\n",
    "\n",
    "hello()"
   ]
  },
  {
   "cell_type": "markdown",
   "metadata": {},
   "source": [
    "# Visualizing Functions\n",
    "\n",
    "The class provides a visualization mode using the CodeSkulptor website, which is useful for debugging and seeing what is going on under the hood. It is similar to PythonTutor. If you don't want to use CodeSkulptor (like me) consider using PythonTutor.com."
   ]
  },
  {
   "cell_type": "markdown",
   "metadata": {},
   "source": [
    "# Additional Operations\n",
    "\n",
    "## Modular arithmetic\n",
    "\n",
    "Example: Calculate the \"tens\" digit and the \"ones\" digit of a 2 digit number.\n",
    "\n",
    "Hint: The modulo operator (`%`) gives the **remainder** following division"
   ]
  },
  {
   "cell_type": "code",
   "execution_count": 1,
   "metadata": {},
   "outputs": [
    {
     "name": "stdout",
     "output_type": "stream",
     "text": [
      "4 9\n"
     ]
    }
   ],
   "source": [
    "num = 49\n",
    "\n",
    "tens = num // 10\n",
    "ones = num % 10\n",
    "print(tens, ones)"
   ]
  },
  {
   "cell_type": "markdown",
   "metadata": {},
   "source": [
    "Example: Use `%` to for 24 hour clock questions"
   ]
  },
  {
   "cell_type": "code",
   "execution_count": 2,
   "metadata": {},
   "outputs": [
    {
     "name": "stdout",
     "output_type": "stream",
     "text": [
      "4\n"
     ]
    }
   ],
   "source": [
    "# what time will it be at the end of an 8 hour shift that begins at 2000?\n",
    "\n",
    "hour = 20\n",
    "shift = 8\n",
    "\n",
    "print((hour + shift) % 24)"
   ]
  },
  {
   "cell_type": "markdown",
   "metadata": {},
   "source": [
    "\n",
    "\n",
    "# Logic and Conditionals\n",
    "\n",
    "## Boolean Logic\n",
    "- `not`\n",
    "- `and`\n",
    "- `or`"
   ]
  },
  {
   "cell_type": "code",
   "execution_count": 6,
   "metadata": {},
   "outputs": [
    {
     "name": "stdout",
     "output_type": "stream",
     "text": [
      "False\n",
      "False\n",
      "True\n"
     ]
    }
   ],
   "source": [
    "a = True\n",
    "b = False\n",
    "\n",
    "print(not a)\n",
    "print(a and b)\n",
    "print(a or b)"
   ]
  },
  {
   "cell_type": "markdown",
   "metadata": {},
   "source": [
    "## Comparison Operators\n",
    "\n",
    ">\n",
    "<\n",
    ">=\n",
    "<=\n",
    "==\n",
    "!="
   ]
  },
  {
   "cell_type": "code",
   "execution_count": 7,
   "metadata": {},
   "outputs": [
    {
     "name": "stdout",
     "output_type": "stream",
     "text": [
      "True\n"
     ]
    }
   ],
   "source": [
    "a = 7 > 3\n",
    "print(a)"
   ]
  },
  {
   "cell_type": "code",
   "execution_count": 8,
   "metadata": {},
   "outputs": [
    {
     "name": "stdout",
     "output_type": "stream",
     "text": [
      "True\n"
     ]
    }
   ],
   "source": [
    "x = 8\n",
    "y = 5\n",
    "b = x >= y\n",
    "\n",
    "print(b)"
   ]
  },
  {
   "cell_type": "code",
   "execution_count": 9,
   "metadata": {},
   "outputs": [
    {
     "name": "stdout",
     "output_type": "stream",
     "text": [
      "True\n"
     ]
    }
   ],
   "source": [
    "# works with strings too\n",
    "c = \"Hello\" == \"Hello\"\n",
    "\n",
    "print(c)"
   ]
  },
  {
   "cell_type": "markdown",
   "metadata": {},
   "source": [
    "\n",
    "\n",
    "## Conditionals"
   ]
  },
  {
   "cell_type": "code",
   "execution_count": 11,
   "metadata": {},
   "outputs": [],
   "source": [
    "# If person is a friend (friend = TRUE) and you have > 20 bucks, then say Hi and give 20 bucks\n",
    "\n",
    "\n",
    "def greet(friend, money):\n",
    "    if friend and (money > 20):\n",
    "        print(\"Hi!\")\n",
    "        money = money - 20\n",
    "    elif friend:\n",
    "        print(\"Hello\")\n",
    "    else:\n",
    "        print(\"Ha ha\")\n",
    "        money = money + 10 #mug non-friend and take 10 bucks\n",
    "    return money"
   ]
  },
  {
   "cell_type": "code",
   "execution_count": 13,
   "metadata": {},
   "outputs": [
    {
     "name": "stdout",
     "output_type": "stream",
     "text": [
      "Hello\n",
      "Money: 15\n",
      "\n",
      "Ha ha\n",
      "Money: 25\n",
      "\n",
      "Hi!\n",
      "Money: 5\n",
      "\n"
     ]
    }
   ],
   "source": [
    "money = 15\n",
    "\n",
    "money = greet(True, money)\n",
    "print(\"Money:\", money)\n",
    "print(\"\") # adds a space between each line\n",
    "\n",
    "money = greet(False, money)\n",
    "print(\"Money:\", money)\n",
    "print(\"\")\n",
    "\n",
    "money = greet(True, money)\n",
    "print(\"Money:\", money)\n",
    "print(\"\")"
   ]
  },
  {
   "cell_type": "markdown",
   "metadata": {},
   "source": [
    "### Leap Year Example"
   ]
  },
  {
   "cell_type": "code",
   "execution_count": 14,
   "metadata": {},
   "outputs": [],
   "source": [
    "def is_leap_year(year):\n",
    "    if (year % 400) == 0:\n",
    "        return True\n",
    "    elif (year % 100) == 0:\n",
    "        return False\n",
    "    elif (year % 4) == 0:\n",
    "        return True\n",
    "    else:\n",
    "        return False"
   ]
  },
  {
   "cell_type": "code",
   "execution_count": 15,
   "metadata": {},
   "outputs": [
    {
     "name": "stdout",
     "output_type": "stream",
     "text": [
      "2012 is a leap year\n"
     ]
    }
   ],
   "source": [
    "year = 2012\n",
    "leap_year = is_leap_year(year)\n",
    "    \n",
    "if leap_year:\n",
    "    print(year, \"is a leap year\")\n",
    "else:\n",
    "    print(year, \"is not a leap year\")"
   ]
  },
  {
   "cell_type": "code",
   "execution_count": 45,
   "metadata": {},
   "outputs": [],
   "source": [
    "# Quiz Prob 8\n",
    "\n",
    "import math\n",
    "\n",
    "def polygon(n, s):\n",
    "    ans = (n * s**2) / (4 * math.tan((math.pi/n)))\n",
    "    return ans"
   ]
  },
  {
   "cell_type": "code",
   "execution_count": 47,
   "metadata": {},
   "outputs": [
    {
     "data": {
      "text/plain": [
       "32.705211996014306"
      ]
     },
     "execution_count": 47,
     "metadata": {},
     "output_type": "execute_result"
    }
   ],
   "source": [
    "polygon(7, 3)"
   ]
  },
  {
   "cell_type": "code",
   "execution_count": 58,
   "metadata": {},
   "outputs": [
    {
     "name": "stdout",
     "output_type": "stream",
     "text": [
      "1.0988845115895123 3.846095790563293\n"
     ]
    }
   ],
   "source": [
    "def project_to_distance(point_x, point_y, distance):\n",
    "    dist_to_origin = math.sqrt(point_x ** 2 + point_y ** 2)\n",
    "    scale = distance / dist_to_origin\n",
    "    print(point_x * scale, point_y * scale)\n",
    "\n",
    "project_to_distance(2, 7, 4)"
   ]
  },
  {
   "cell_type": "markdown",
   "metadata": {},
   "source": [
    "Quiz 1\n",
    "\n",
    "1. Unlimited\n",
    "2. False False True False\n",
    "3. Hello world     Is it over yet?\n",
    "4. [2 choices] (n % 100 - n % 10) / 10     and      ((n - n % 10) % 100) / 10\n",
    "5. 10\n",
    "6. 69\n",
    "7. 1061.8348011259045 \n",
    "8. 32.705211996014306\n",
    "9. Incorrect indentation\n",
    "10. 3.846095790563293"
   ]
  }
 ],
 "metadata": {
  "kernelspec": {
   "display_name": "Python 3",
   "language": "python",
   "name": "python3"
  },
  "language_info": {
   "codemirror_mode": {
    "name": "ipython",
    "version": 3
   },
   "file_extension": ".py",
   "mimetype": "text/x-python",
   "name": "python",
   "nbconvert_exporter": "python",
   "pygments_lexer": "ipython3",
   "version": "3.6.3"
  }
 },
 "nbformat": 4,
 "nbformat_minor": 2
}
