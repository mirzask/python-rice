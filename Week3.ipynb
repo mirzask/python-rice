{
 "cells": [
  {
   "cell_type": "markdown",
   "metadata": {},
   "source": [
    "# Interactive Applications\n",
    "\n",
    "\n",
    "## Event-driven programming\n",
    "\n",
    "The program sits and **waits** for an \"event\" occur then the intended *handler* is executed.\n",
    "\n",
    "**What are \"events\"?**\n",
    "\n",
    "- Input - e.g. button, text box\n",
    "- Keyboard - e.g. key up/down\n",
    "- Mouse - e.g. click, drag\n",
    "- Timer"
   ]
  },
  {
   "cell_type": "markdown",
   "metadata": {},
   "source": [
    "## Local vs Global Variables\n",
    "\n",
    "Variables that are created *inside* of a function are called **local variables**. Local variables do not exist after the function is run. This is in contrast to **global variables**, which as an example would be setting `x = 4`."
   ]
  },
  {
   "cell_type": "code",
   "execution_count": 3,
   "metadata": {},
   "outputs": [
    {
     "name": "stdout",
     "output_type": "stream",
     "text": [
      "1\n",
      "2\n"
     ]
    }
   ],
   "source": [
    "# num1 is a global variable\n",
    "\n",
    "num1 = 1\n",
    "print(num1)\n",
    "\n",
    "# num2 is a local variable\n",
    "\n",
    "def fun():\n",
    "    num2 = num1 + 1\n",
    "    print(num2)\n",
    "    \n",
    "fun()"
   ]
  },
  {
   "cell_type": "code",
   "execution_count": 4,
   "metadata": {},
   "outputs": [
    {
     "name": "stdout",
     "output_type": "stream",
     "text": [
      "1\n"
     ]
    },
    {
     "ename": "NameError",
     "evalue": "name 'num2' is not defined",
     "output_type": "error",
     "traceback": [
      "\u001b[0;31m---------------------------------------------------------------------------\u001b[0m",
      "\u001b[0;31mNameError\u001b[0m                                 Traceback (most recent call last)",
      "\u001b[0;32m<ipython-input-4-e914076ef827>\u001b[0m in \u001b[0;36m<module>\u001b[0;34m()\u001b[0m\n\u001b[1;32m      5\u001b[0m \u001b[0;31m# Does num2 exist?\u001b[0m\u001b[0;34m\u001b[0m\u001b[0;34m\u001b[0m\u001b[0m\n\u001b[1;32m      6\u001b[0m \u001b[0;34m\u001b[0m\u001b[0m\n\u001b[0;32m----> 7\u001b[0;31m \u001b[0mprint\u001b[0m\u001b[0;34m(\u001b[0m\u001b[0mnum2\u001b[0m\u001b[0;34m)\u001b[0m\u001b[0;34m\u001b[0m\u001b[0m\n\u001b[0m",
      "\u001b[0;31mNameError\u001b[0m: name 'num2' is not defined"
     ]
    }
   ],
   "source": [
    "# Does num1 exist globally?\n",
    "\n",
    "print(num1)\n",
    "\n",
    "# Does num2 exist globally?\n",
    "\n",
    "print(num2)"
   ]
  },
  {
   "cell_type": "markdown",
   "metadata": {},
   "source": [
    "## Update a global variable w/in a function\n",
    "\n",
    "Call the global variable using `global` within the function. Now any changes to the variable within the function will be reflected globally once the function is run!"
   ]
  },
  {
   "cell_type": "code",
   "execution_count": 6,
   "metadata": {},
   "outputs": [
    {
     "name": "stdout",
     "output_type": "stream",
     "text": [
      "4\n",
      "5\n"
     ]
    }
   ],
   "source": [
    "num = 4\n",
    "\n",
    "print(num)\n",
    "\n",
    "def fun1():\n",
    "    global num\n",
    "    num = 5\n",
    "\n",
    "fun1()\n",
    "print(num)"
   ]
  },
  {
   "cell_type": "markdown",
   "metadata": {},
   "source": [
    "SimplyGUI process checklist\n",
    "\n",
    "1. Define globals\n",
    "2. Define Helper functions\n",
    "3. Define Classes\n",
    "4. Define Event handlers\n",
    "5. Create a frame\n",
    "6. Register event handlers\n",
    "7. Start frame + timers"
   ]
  },
  {
   "cell_type": "code",
   "execution_count": null,
   "metadata": {},
   "outputs": [],
   "source": [
    "# SimpleGUI program template\n",
    "\n",
    "# Import the module\n",
    "import simplegui\n",
    "\n",
    "# Define global variables (program state)\n",
    "counter = 0\n",
    "\n",
    "# Define \"helper\" functions\n",
    "def increment():\n",
    "    global counter\n",
    "    counter += 1\n",
    "\n",
    "# Define event handler functions\n",
    "def tick():\n",
    "    increment()\n",
    "    print counter\n",
    "    \n",
    "# Create a frame\n",
    "frame = simplegui.create_frame(\"SimpleGUI Test\", 100, 100)\n",
    "\n",
    "# Register event handlers\n",
    "timer = simplegui.create_timer(1000, tick)\n",
    "frame.add_button(\"Click me!\", tick)\n",
    "\n",
    "# Start frame and timers\n",
    "frame.start()\n",
    "timer.start()\n"
   ]
  },
  {
   "cell_type": "code",
   "execution_count": 9,
   "metadata": {},
   "outputs": [
    {
     "name": "stdout",
     "output_type": "stream",
     "text": [
      "43046721\n",
      "4\n"
     ]
    }
   ],
   "source": [
    "count = 0\n",
    "\n",
    "def square(x):\n",
    "    global count\n",
    "    count += 1\n",
    "    return x**2\n",
    "\n",
    "print(square(square(square(square(3)))))\n",
    "print(count)"
   ]
  },
  {
   "cell_type": "markdown",
   "metadata": {},
   "source": [
    "# Buttons and Input Fields\n",
    "\n",
    "Add a button to the `simplegui` using `frame.add_button(\"Label\", button_operation, 100)`\n",
    "\n",
    "Add an input frame using `frame.add_input(\"Label\", input_handler, 50)`. The event handler gets called when you hit `Enter`."
   ]
  },
  {
   "cell_type": "code",
   "execution_count": 13,
   "metadata": {},
   "outputs": [
    {
     "data": {
      "text/plain": [
       "True"
      ]
     },
     "execution_count": 13,
     "metadata": {},
     "output_type": "execute_result"
    }
   ],
   "source": [
    "a = True\n",
    "b = True\n",
    "c = False\n",
    "\n",
    "a or b and c == b and c or a"
   ]
  },
  {
   "cell_type": "code",
   "execution_count": 16,
   "metadata": {},
   "outputs": [
    {
     "data": {
      "text/plain": [
       "12"
      ]
     },
     "execution_count": 16,
     "metadata": {},
     "output_type": "execute_result"
    }
   ],
   "source": [
    "import random\n",
    "\n",
    "random.randint(0, 100)"
   ]
  },
  {
   "cell_type": "code",
   "execution_count": null,
   "metadata": {},
   "outputs": [],
   "source": []
  }
 ],
 "metadata": {
  "kernelspec": {
   "display_name": "Python 3",
   "language": "python",
   "name": "python3"
  },
  "language_info": {
   "codemirror_mode": {
    "name": "ipython",
    "version": 3
   },
   "file_extension": ".py",
   "mimetype": "text/x-python",
   "name": "python",
   "nbconvert_exporter": "python",
   "pygments_lexer": "ipython3",
   "version": "3.6.3"
  }
 },
 "nbformat": 4,
 "nbformat_minor": 2
}
