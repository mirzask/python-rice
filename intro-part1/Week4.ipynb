{
 "cells": [
  {
   "cell_type": "markdown",
   "metadata": {},
   "source": [
    "# String Processing\n",
    "\n",
    "## Combining strings\n",
    "\n",
    "Combining strings can be achieved using the `+` operator"
   ]
  },
  {
   "cell_type": "code",
   "execution_count": 1,
   "metadata": {},
   "outputs": [
    {
     "name": "stdout",
     "output_type": "stream",
     "text": [
      "Hello! How are you?\n"
     ]
    }
   ],
   "source": [
    "print(\"Hello! \" + \"How are you?\")"
   ]
  },
  {
   "cell_type": "markdown",
   "metadata": {},
   "source": [
    "## String literals\n",
    "\n",
    "We can use `,` in our print statement to join these strings (as shown)."
   ]
  },
  {
   "cell_type": "code",
   "execution_count": 4,
   "metadata": {},
   "outputs": [
    {
     "name": "stdout",
     "output_type": "stream",
     "text": [
      "Charlie bit me.\n"
     ]
    }
   ],
   "source": [
    "s1 = \"Charlie\"\n",
    "s2 = 'bit me.'\n",
    "print(s1, s2)"
   ]
  },
  {
   "cell_type": "markdown",
   "metadata": {},
   "source": [
    "## Slicing strings\n",
    "\n",
    "Same as slicing with lists, etc."
   ]
  },
  {
   "cell_type": "code",
   "execution_count": 7,
   "metadata": {},
   "outputs": [
    {
     "data": {
      "text/plain": [
       "'ma'"
      ]
     },
     "execution_count": 7,
     "metadata": {},
     "output_type": "execute_result"
    }
   ],
   "source": [
    "a = \"onomatopoeia\"\n",
    "\n",
    "a[3:5]"
   ]
  },
  {
   "cell_type": "markdown",
   "metadata": {},
   "source": [
    "Use `len(str)` to determine the length of a particular string.\n",
    "\n",
    "Here we see that \"onomatopoeia\" is of length 12."
   ]
  },
  {
   "cell_type": "code",
   "execution_count": 8,
   "metadata": {},
   "outputs": [
    {
     "data": {
      "text/plain": [
       "12"
      ]
     },
     "execution_count": 8,
     "metadata": {},
     "output_type": "execute_result"
    }
   ],
   "source": [
    "len(a)"
   ]
  },
  {
   "cell_type": "markdown",
   "metadata": {},
   "source": [
    "## Convert to string\n",
    "\n",
    "Use the `str` function to convert other data types, e.g. an integer, into a string."
   ]
  },
  {
   "cell_type": "code",
   "execution_count": 10,
   "metadata": {},
   "outputs": [
    {
     "data": {
      "text/plain": [
       "'I am 100 years old.'"
      ]
     },
     "execution_count": 10,
     "metadata": {},
     "output_type": "execute_result"
    }
   ],
   "source": [
    "i1 = 100\n",
    "\n",
    "\"I am \" + str(i1) + \" years old.\""
   ]
  },
  {
   "cell_type": "markdown",
   "metadata": {},
   "source": [
    "## Example: Convert float to $ and cents\n",
    "\n",
    "```\n",
    "# Handle single quantity\n",
    "def convert_units(val, name):\n",
    "    result = str(val) + \" \" + name\n",
    "    if val > 1:\n",
    "        result = result + \"s\"\n",
    "    return result\n",
    "        \n",
    "# convert xx.yy to xx dollars and yy cents\n",
    "def convert(val):\n",
    "    # Split into dollars and cents\n",
    "    dollars = int(val)\n",
    "    cents = int(round(100 * (val - dollars)))\n",
    "\n",
    "    # Convert to strings\n",
    "    dollars_string = convert_units(dollars, \"dollar\")\n",
    "    cents_string = convert_units(cents, \"cent\")\n",
    "\n",
    "    # return composite string\n",
    "    if dollars == 0 and cents == 0:\n",
    "        return \"Broke!\"\n",
    "    elif dollars == 0:\n",
    "        return cents_string\n",
    "    elif cents == 0:\n",
    "        return dollars_string\n",
    "    else:\n",
    "        return dollars_string + \" and \" + cents_string\n",
    "```"
   ]
  },
  {
   "cell_type": "markdown",
   "metadata": {},
   "source": [
    "# Count the number of i's in a string\n",
    "\n",
    "Use the `count` method.\n",
    "\n",
    "For example, count the number of o's in \"onomatopoeia\":"
   ]
  },
  {
   "cell_type": "code",
   "execution_count": 21,
   "metadata": {},
   "outputs": [
    {
     "data": {
      "text/plain": [
       "4"
      ]
     },
     "execution_count": 21,
     "metadata": {},
     "output_type": "execute_result"
    }
   ],
   "source": [
    "def number_of_o(word):\n",
    "    \"\"\"Returns the number of lower-case o's in the word.\"\"\"\n",
    "    return word.count(\"o\")\n",
    "\n",
    "number_of_o(\"onomatopoeia\")"
   ]
  },
  {
   "cell_type": "markdown",
   "metadata": {},
   "source": [
    "# Canvas and Drawing\n",
    "\n",
    "Example code to get the ball rolling:\n",
    "\n",
    "```\n",
    "# define draw handler\n",
    "def draw(canvas):\n",
    "    canvas.draw_text(\"Hello!\",[100, 100], 24, \"White\")\n",
    "    canvas.draw_circle([100, 100], 2, 2, \"Red\")\n",
    "\n",
    "# create frame\n",
    "frame = simplegui.create_frame(\"Text drawing\", 300, 200)\n",
    "\n",
    "# register draw handler    \n",
    "frame.set_draw_handler(draw)\n",
    "\n",
    "# start frame\n",
    "frame.start()\n",
    "```"
   ]
  },
  {
   "cell_type": "code",
   "execution_count": 23,
   "metadata": {},
   "outputs": [
    {
     "ename": "ValueError",
     "evalue": "invalid literal for int() with base 10: '5.4'",
     "output_type": "error",
     "traceback": [
      "\u001b[0;31m---------------------------------------------------------------------------\u001b[0m",
      "\u001b[0;31mValueError\u001b[0m                                Traceback (most recent call last)",
      "\u001b[0;32m<ipython-input-23-7df20d24c4b1>\u001b[0m in \u001b[0;36m<module>\u001b[0;34m()\u001b[0m\n\u001b[0;32m----> 1\u001b[0;31m \u001b[0mint\u001b[0m\u001b[0;34m(\u001b[0m\u001b[0;34m\"5.4\"\u001b[0m\u001b[0;34m)\u001b[0m\u001b[0;34m\u001b[0m\u001b[0m\n\u001b[0m",
      "\u001b[0;31mValueError\u001b[0m: invalid literal for int() with base 10: '5.4'"
     ]
    }
   ],
   "source": [
    "int(\"5.4\")"
   ]
  },
  {
   "cell_type": "code",
   "execution_count": null,
   "metadata": {},
   "outputs": [],
   "source": []
  }
 ],
 "metadata": {
  "kernelspec": {
   "display_name": "Python 3",
   "language": "python",
   "name": "python3"
  },
  "language_info": {
   "codemirror_mode": {
    "name": "ipython",
    "version": 3
   },
   "file_extension": ".py",
   "mimetype": "text/x-python",
   "name": "python",
   "nbconvert_exporter": "python",
   "pygments_lexer": "ipython3",
   "version": "3.6.3"
  }
 },
 "nbformat": 4,
 "nbformat_minor": 2
}
